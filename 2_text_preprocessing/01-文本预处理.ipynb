{
 "cells": [
  {
   "cell_type": "code",
   "execution_count": 5,
   "metadata": {},
   "outputs": [
    {
     "data": {
      "text/plain": [
       "<generator object Tokenizer.cut at 0x7fb0a5ff8ca0>"
      ]
     },
     "execution_count": 5,
     "metadata": {},
     "output_type": "execute_result"
    }
   ],
   "source": [
    "import jieba\n",
    "content = \"⼯信处⼥⼲事每⽉经过下属科室都要亲⼝交代24⼝交换机等技术性器件的安装⼯作\"\n",
    "jieba.cut(content,cut_all=False)\n"
   ]
  },
  {
   "cell_type": "code",
   "execution_count": 6,
   "metadata": {},
   "outputs": [
    {
     "data": {
      "text/plain": [
       "['⼯',\n",
       " '信处',\n",
       " '⼥',\n",
       " '⼲',\n",
       " '事',\n",
       " '每',\n",
       " '⽉',\n",
       " '经过',\n",
       " '下属',\n",
       " '科室',\n",
       " '都',\n",
       " '要',\n",
       " '亲',\n",
       " '⼝',\n",
       " '交代',\n",
       " '24',\n",
       " '⼝',\n",
       " '交换机',\n",
       " '等',\n",
       " '技术性',\n",
       " '器件',\n",
       " '的',\n",
       " '安装',\n",
       " '⼯',\n",
       " '作']"
      ]
     },
     "execution_count": 6,
     "metadata": {},
     "output_type": "execute_result"
    }
   ],
   "source": [
    "jieba.lcut(content,cut_all=False)"
   ]
  },
  {
   "cell_type": "code",
   "execution_count": 7,
   "metadata": {},
   "outputs": [
    {
     "data": {
      "text/plain": [
       "<generator object Tokenizer.cut at 0x7fb0a5ff8e00>"
      ]
     },
     "execution_count": 7,
     "metadata": {},
     "output_type": "execute_result"
    }
   ],
   "source": [
    "jieba.cut(content,cut_all=True)"
   ]
  },
  {
   "cell_type": "code",
   "execution_count": 8,
   "metadata": {},
   "outputs": [
    {
     "data": {
      "text/plain": [
       "['⼯',\n",
       " '信',\n",
       " '处',\n",
       " '⼥⼲',\n",
       " '事',\n",
       " '每',\n",
       " '⽉',\n",
       " '经过',\n",
       " '下属',\n",
       " '科室',\n",
       " '都',\n",
       " '要',\n",
       " '亲',\n",
       " '⼝',\n",
       " '交代',\n",
       " '24',\n",
       " '⼝',\n",
       " '交换',\n",
       " '交换机',\n",
       " '换机',\n",
       " '等',\n",
       " '技术',\n",
       " '技术性',\n",
       " '性器',\n",
       " '器件',\n",
       " '的',\n",
       " '安装',\n",
       " '⼯',\n",
       " '作']"
      ]
     },
     "execution_count": 8,
     "metadata": {},
     "output_type": "execute_result"
    }
   ],
   "source": [
    "jieba.lcut(content,cut_all=True)"
   ]
  },
  {
   "cell_type": "code",
   "execution_count": 12,
   "metadata": {},
   "outputs": [
    {
     "data": {
      "text/plain": [
       "<generator object Tokenizer.cut_for_search at 0x7fb0a4419ea0>"
      ]
     },
     "execution_count": 12,
     "metadata": {},
     "output_type": "execute_result"
    }
   ],
   "source": [
    "jieba.cut_for_search(content)"
   ]
  },
  {
   "cell_type": "code",
   "execution_count": 13,
   "metadata": {},
   "outputs": [
    {
     "data": {
      "text/plain": [
       "['⼯',\n",
       " '信处',\n",
       " '⼥',\n",
       " '⼲',\n",
       " '事',\n",
       " '每',\n",
       " '⽉',\n",
       " '经过',\n",
       " '下属',\n",
       " '科室',\n",
       " '都',\n",
       " '要',\n",
       " '亲',\n",
       " '⼝',\n",
       " '交代',\n",
       " '24',\n",
       " '⼝',\n",
       " '交换',\n",
       " '换机',\n",
       " '交换机',\n",
       " '等',\n",
       " '技术',\n",
       " '技术性',\n",
       " '器件',\n",
       " '的',\n",
       " '安装',\n",
       " '⼯',\n",
       " '作']"
      ]
     },
     "execution_count": 13,
     "metadata": {},
     "output_type": "execute_result"
    }
   ],
   "source": [
    "jieba.lcut_for_search(content)"
   ]
  },
  {
   "cell_type": "code",
   "execution_count": 14,
   "metadata": {},
   "outputs": [
    {
     "data": {
      "text/plain": [
       "<generator object Tokenizer.cut at 0x7fb0a5ff9640>"
      ]
     },
     "execution_count": 14,
     "metadata": {},
     "output_type": "execute_result"
    }
   ],
   "source": [
    "import jieba\n",
    "content = \"煩惱即是菩提，我暫且不提\"\n",
    "jieba.cut(content)"
   ]
  },
  {
   "cell_type": "code",
   "execution_count": 15,
   "metadata": {},
   "outputs": [
    {
     "data": {
      "text/plain": [
       "['煩惱', '即', '是', '菩提', '，', '我', '暫且', '不', '提']"
      ]
     },
     "execution_count": 15,
     "metadata": {},
     "output_type": "execute_result"
    }
   ],
   "source": [
    "jieba.lcut(content)"
   ]
  },
  {
   "cell_type": "code",
   "execution_count": 75,
   "metadata": {},
   "outputs": [
    {
     "data": {
      "text/plain": [
       "['⼋', '⼀', '双', '⿅', '更名', '为', '⼋', '⼀', '南昌', '篮球队', '！']"
      ]
     },
     "execution_count": 75,
     "metadata": {},
     "output_type": "execute_result"
    }
   ],
   "source": [
    "import jieba \n",
    "jieba.lcut(\"⼋⼀双⿅更名为⼋⼀南昌篮球队！\")"
   ]
  },
  {
   "cell_type": "code",
   "execution_count": 84,
   "metadata": {},
   "outputs": [
    {
     "data": {
      "text/plain": [
       "['⼋', '⼀', '双', '⿅', '！']"
      ]
     },
     "execution_count": 84,
     "metadata": {},
     "output_type": "execute_result"
    }
   ],
   "source": [
    "jieba.load_userdict(\"/home/ly/NLP_study/02文本的预处理/userdict.txt\")\n",
    "jieba.lcut(\"⼋⼀双⿅！\")"
   ]
  },
  {
   "cell_type": "code",
   "execution_count": 1,
   "metadata": {},
   "outputs": [
    {
     "name": "stderr",
     "output_type": "stream",
     "text": [
      "Building prefix dict from the default dictionary ...\n",
      "Loading model from cache /tmp/jieba.cache\n",
      "Loading model cost 0.688 seconds.\n",
      "Prefix dict has been built successfully.\n"
     ]
    },
    {
     "data": {
      "text/plain": [
       "[pair('我', 'r'), pair('爱', 'v'), pair('重庆', 'ns')]"
      ]
     },
     "execution_count": 1,
     "metadata": {},
     "output_type": "execute_result"
    }
   ],
   "source": [
    "import jieba.posseg as peg\n",
    "peg.lcut('我爱重庆')"
   ]
  }
 ],
 "metadata": {
  "kernelspec": {
   "display_name": "base",
   "language": "python",
   "name": "python3"
  },
  "language_info": {
   "codemirror_mode": {
    "name": "ipython",
    "version": 3
   },
   "file_extension": ".py",
   "mimetype": "text/x-python",
   "name": "python",
   "nbconvert_exporter": "python",
   "pygments_lexer": "ipython3",
   "version": "3.11.4"
  }
 },
 "nbformat": 4,
 "nbformat_minor": 2
}
